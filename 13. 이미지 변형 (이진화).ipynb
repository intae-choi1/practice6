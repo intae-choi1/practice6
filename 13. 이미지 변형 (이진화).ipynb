{
 "cells": [
  {
   "cell_type": "markdown",
   "metadata": {},
   "source": [
    "13. 이미지 변형 (이진화)"
   ]
  },
  {
   "cell_type": "markdown",
   "metadata": {},
   "source": [
    "### Treshold"
   ]
  },
  {
   "cell_type": "code",
   "execution_count": 3,
   "metadata": {},
   "outputs": [],
   "source": [
    "import cv2\n",
    "from dd import dd, ddd\n",
    "img = cv2.imread('opencv_img/book.jpg', cv2.IMREAD_GRAYSCALE)\n",
    "\n",
    "# 127보다 크면 255로 . 아니면 0\n",
    "ret, binary = cv2.threshold(img, 127, 155, cv2.THRESH_BINARY)\n",
    "\n",
    "dd('binary', binary)\n",
    "dd('img', img)\n",
    "ddd()"
   ]
  },
  {
   "cell_type": "markdown",
   "metadata": {},
   "source": [
    "#### Trackbar (값 변화에 따른 변형 확인)"
   ]
  },
  {
   "cell_type": "code",
   "execution_count": 10,
   "metadata": {},
   "outputs": [],
   "source": [
    "def empty(pos):\n",
    "    pass\n",
    "img = cv2.imread('opencv_img/book.jpg', cv2.IMREAD_GRAYSCALE)\n",
    "\n",
    "\n",
    "name = 'Trackbar'\n",
    "cv2.namedWindow(name)\n",
    "\n",
    "cv2.createTrackbar('threshold', name, 127, 255, empty) # bar 이름, 창 이름, 초기값, 최대값, 이벤트 처리\n",
    "\n",
    "while True:\n",
    "    thresh = cv2.getTrackbarPos('threshold', name) # bar 이름, 창 이름 <- 저 창에서 저 이름의 bar의 값을 반환\n",
    "    ret, binary = cv2.threshold(img, thresh, 255, cv2.THRESH_BINARY)\n",
    "    if not ret:\n",
    "        break\n",
    "    cv2.imshow(name, binary)\n",
    "    if cv2.waitKey(1) == ord('q'):\n",
    "        break\n",
    "\n",
    "cv2.destroyAllWindows()\n",
    "\n"
   ]
  },
  {
   "cell_type": "markdown",
   "metadata": {},
   "source": [
    "### Adaptive Threshold\n",
    "이미지를 작은 영역으로 나눠서 임계치 적용"
   ]
  },
  {
   "cell_type": "code",
   "execution_count": 4,
   "metadata": {},
   "outputs": [],
   "source": [
    "def empty(pos):\n",
    "    pass\n",
    "img = cv2.imread('opencv_img/book.jpg', cv2.IMREAD_GRAYSCALE)\n",
    "\n",
    "\n",
    "name = 'Trackbar'\n",
    "cv2.namedWindow(name)\n",
    "\n",
    "# bar 이름, 창 이름, 초기값, 최대값, 이벤트 처리\n",
    "cv2.createTrackbar('block_side', name, 25, 100, empty) # 홀수만 가능, 1보다 큰 값\n",
    "cv2.createTrackbar('c', name, 3, 10, empty) # 양수의 값\n",
    "\n",
    "while True:\n",
    "    block_size = cv2.getTrackbarPos('block_side', name) # bar 이름, 창 이름 <- 저 창에서 저 이름의 bar의 값을 반환\n",
    "    c = cv2.getTrackbarPos('c', name)\n",
    "    \n",
    "    if block_size <= 1: block_size = 3\n",
    "    if block_size%2 == 0: block_size += 1\n",
    "\n",
    "    binary = cv2.adaptiveThreshold(img, 255, cv2.ADAPTIVE_THRESH_MEAN_C, cv2.THRESH_BINARY, block_size, c)\n",
    "    cv2.imshow(name, binary)\n",
    "    if cv2.waitKey(1) == ord('q'):\n",
    "        break\n",
    "\n",
    "cv2.destroyAllWindows()\n",
    "\n"
   ]
  },
  {
   "cell_type": "markdown",
   "metadata": {},
   "source": [
    "### 오츠 알고리즘\n",
    "Bimodal Image에 사용하기 적합 (최적의 임계치를 찾기)"
   ]
  },
  {
   "cell_type": "code",
   "execution_count": 6,
   "metadata": {},
   "outputs": [
    {
     "name": "stdout",
     "output_type": "stream",
     "text": [
      "ousu threshold 138.0\n"
     ]
    }
   ],
   "source": [
    "import cv2\n",
    "from dd import dd, ddd\n",
    "img = cv2.imread('opencv_img/book.jpg', cv2.IMREAD_GRAYSCALE)\n",
    "\n",
    "ret, binary = cv2.threshold(img, 127, 255, cv2.THRESH_BINARY)\n",
    "ret, otsu = cv2.threshold(img, -1, 255, cv2.THRESH_BINARY|cv2.THRESH_OTSU)\n",
    "print('ousu threshold', ret)\n",
    "\n",
    "dd('binary', binary)\n",
    "dd('otsu', otsu)\n",
    "dd('img', img)\n",
    "ddd()"
   ]
  }
 ],
 "metadata": {
  "kernelspec": {
   "display_name": "Python 3.10.8 ('opencv_env')",
   "language": "python",
   "name": "python3"
  },
  "language_info": {
   "codemirror_mode": {
    "name": "ipython",
    "version": 3
   },
   "file_extension": ".py",
   "mimetype": "text/x-python",
   "name": "python",
   "nbconvert_exporter": "python",
   "pygments_lexer": "ipython3",
   "version": "3.10.8"
  },
  "orig_nbformat": 4,
  "vscode": {
   "interpreter": {
    "hash": "b86bb98fdd70a8e8782ea355ee2333fe77b3c475ee22810b54383d5ac706a69f"
   }
  }
 },
 "nbformat": 4,
 "nbformat_minor": 2
}
