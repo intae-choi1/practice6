{
 "cells": [
  {
   "cell_type": "markdown",
   "metadata": {},
   "source": [
    "# 10. 이미지 변형 (블러)\n",
    "가우시안 블러"
   ]
  },
  {
   "cell_type": "markdown",
   "metadata": {},
   "source": [
    "커널 사이즈 변화에 따른 흐림\n",
    "\n"
   ]
  },
  {
   "cell_type": "code",
   "execution_count": 2,
   "metadata": {},
   "outputs": [],
   "source": [
    "import cv2\n",
    "from dd import dd, ddd\n",
    "img = cv2.imread('opencv_img/img_cat.jpg')\n"
   ]
  },
  {
   "cell_type": "code",
   "execution_count": 12,
   "metadata": {},
   "outputs": [],
   "source": [
    "kernel_3 = cv2.GaussianBlur(img, (3,3), 0) # 이미지, 커널사이즈, 표준편차\n",
    "kernel_5 = cv2.GaussianBlur(img, (5,5), 0)\n",
    "kernel_7 = cv2.GaussianBlur(img, (71,71), 0)\n",
    "\n",
    "dd('img', img)\n",
    "dd('kernel_3', kernel_3)\n",
    "dd('kernel_5', kernel_5)\n",
    "dd('kernel_7', kernel_7)\n",
    "ddd()"
   ]
  },
  {
   "cell_type": "markdown",
   "metadata": {},
   "source": [
    "표준 편차 변화에 따른 흐림"
   ]
  },
  {
   "cell_type": "code",
   "execution_count": 10,
   "metadata": {},
   "outputs": [],
   "source": [
    "sigma_1 = cv2.GaussianBlur(img, (0, 0), 1)\n",
    "sigma_2 = cv2.GaussianBlur(img, (0, 0), 3)\n",
    "sigma_3 = cv2.GaussianBlur(img, (0, 0), 3.5)\n",
    "# sigmaX(표준편차) - 가우시안 커널의 x 방향의 표준 편차\n",
    "\n",
    "dd('img', img)\n",
    "dd('sigma_1', sigma_1)\n",
    "dd('sigma_2', sigma_2)\n",
    "dd('sigma_3', sigma_3)\n",
    "ddd()"
   ]
  },
  {
   "cell_type": "code",
   "execution_count": null,
   "metadata": {},
   "outputs": [],
   "source": []
  }
 ],
 "metadata": {
  "kernelspec": {
   "display_name": "Python 3.10.8 ('opencv_env')",
   "language": "python",
   "name": "python3"
  },
  "language_info": {
   "codemirror_mode": {
    "name": "ipython",
    "version": 3
   },
   "file_extension": ".py",
   "mimetype": "text/x-python",
   "name": "python",
   "nbconvert_exporter": "python",
   "pygments_lexer": "ipython3",
   "version": "3.10.8"
  },
  "orig_nbformat": 4,
  "vscode": {
   "interpreter": {
    "hash": "b86bb98fdd70a8e8782ea355ee2333fe77b3c475ee22810b54383d5ac706a69f"
   }
  }
 },
 "nbformat": 4,
 "nbformat_minor": 2
}
