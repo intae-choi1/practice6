{
 "cells": [
  {
   "cell_type": "markdown",
   "metadata": {},
   "source": [
    "# 16. 이미지 변환 (열림 & 닫힘)\n",
    "## 열림(opening): 침식 후 팽창. 깎아서 노이즈 제거 후 팽창\n",
    "> dilate(erode(img))"
   ]
  },
  {
   "cell_type": "code",
   "execution_count": null,
   "metadata": {},
   "outputs": [],
   "source": [
    "import cv2\n",
    "import numpy as np\n",
    "from dd import dd, ddd\n",
    "kernel = np.ones((3,3), dtype=np.uint8)\n",
    "\n",
    "img = cv2.imread('opencv_img/erode.png', cv2.IMREAD_GRAYSCALE)\n",
    "erode = cv2.erode(img, kernel, iterations=3)\n",
    "opening = cv2.dilate(erode, kernel, iterations=3)\n",
    "\n",
    "dd('img', img)\n",
    "dd('opening', opening)\n",
    "ddd()"
   ]
  },
  {
   "cell_type": "markdown",
   "metadata": {},
   "source": [
    "## 닫힘 (closing): 팽창 후 침식.\n",
    "> erode(dilate(img))"
   ]
  },
  {
   "cell_type": "code",
   "execution_count": null,
   "metadata": {},
   "outputs": [],
   "source": [
    "img = cv2.imread('opencv_img/dilate.png', cv2.IMREAD_GRAYSCALE)\n",
    "dilate = cv2.dilate(img, kernel, iterations=3)\n",
    "closing = cv2.erode(dilate, kernel, iterations=3)\n",
    "dd('img', img)\n",
    "dd('closing', closing)\n",
    "ddd()"
   ]
  }
 ],
 "metadata": {
  "kernelspec": {
   "display_name": "Python 3.10.8 ('opencv_env')",
   "language": "python",
   "name": "python3"
  },
  "language_info": {
   "name": "python",
   "version": "3.10.8"
  },
  "orig_nbformat": 4,
  "vscode": {
   "interpreter": {
    "hash": "b86bb98fdd70a8e8782ea355ee2333fe77b3c475ee22810b54383d5ac706a69f"
   }
  }
 },
 "nbformat": 4,
 "nbformat_minor": 2
}
