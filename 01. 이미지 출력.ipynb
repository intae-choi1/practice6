{
 "cells": [
  {
   "cell_type": "code",
   "execution_count": 1,
   "id": "6e4c12d0",
   "metadata": {},
   "outputs": [],
   "source": [
    "import cv2"
   ]
  },
  {
   "cell_type": "code",
   "execution_count": 2,
   "id": "316b4c33",
   "metadata": {},
   "outputs": [
    {
     "data": {
      "text/plain": [
       "'4.6.0'"
      ]
     },
     "execution_count": 2,
     "metadata": {},
     "output_type": "execute_result"
    }
   ],
   "source": [
    "cv2.__version__"
   ]
  },
  {
   "cell_type": "code",
   "execution_count": 8,
   "id": "ee33f758",
   "metadata": {},
   "outputs": [
    {
     "name": "stdout",
     "output_type": "stream",
     "text": [
      "-1\n"
     ]
    }
   ],
   "source": [
    "img = cv2.imread('opencv_img/img_cat.jpg')\n",
    "cv2.imshow('window name', img)\n",
    "# cv2.waitKey(0) # 지정된 시간 ms동안 사용자 키입력 대기\n",
    "key = cv2.waitKey(500)\n",
    "print(key)\n",
    "cv2.destroyAllWindows()"
   ]
  },
  {
   "cell_type": "markdown",
   "id": "6dbcebd2",
   "metadata": {},
   "source": [
    "## 읽기 옵션\n",
    "1. cv2.IMREAD_COLOR: 컬러 이미지. 투명 영역은 무시 (기본값)\n",
    "1. cv2.IMREAD_GRAYSCALE: 흑백 이미지\n",
    "1. cv2.IMREAD_UNCHANGED: 투명 영역까지 표현"
   ]
  },
  {
   "cell_type": "code",
   "execution_count": 7,
   "id": "5b692ee6",
   "metadata": {},
   "outputs": [],
   "source": [
    "img_color = cv2.imread('opencv_img/img_cat.jpg', cv2.IMREAD_COLOR)\n",
    "img_gray = cv2.imread('opencv_img/img_cat.jpg', cv2.IMREAD_GRAYSCALE)\n",
    "img_unchanged = cv2.imread('opencv_img/img_cat.jpg', cv2.IMREAD_UNCHANGED)\n",
    "cv2.imshow('img_color', img_color)\n",
    "cv2.imshow('img_gray', img_gray)\n",
    "cv2.imshow('img_unchanged', img_unchanged)\n",
    "\n",
    "cv2.waitKey(0)\n",
    "cv2.destroyAllWindows()"
   ]
  },
  {
   "cell_type": "markdown",
   "id": "32011b5c",
   "metadata": {},
   "source": [
    "## Shape\n",
    "이미지의 height, width, channel 정보"
   ]
  },
  {
   "cell_type": "code",
   "execution_count": 5,
   "id": "8989018f",
   "metadata": {},
   "outputs": [
    {
     "data": {
      "text/plain": [
       "(391, 640, 3)"
      ]
     },
     "execution_count": 5,
     "metadata": {},
     "output_type": "execute_result"
    }
   ],
   "source": [
    "img.shape # 세로, 가로, channel"
   ]
  },
  {
   "cell_type": "code",
   "execution_count": 6,
   "id": "b501c78f",
   "metadata": {},
   "outputs": [
    {
     "data": {
      "text/plain": [
       "(391, 640)"
      ]
     },
     "execution_count": 6,
     "metadata": {},
     "output_type": "execute_result"
    }
   ],
   "source": [
    "img_gray.shape # 세로, 가로, channel"
   ]
  },
  {
   "cell_type": "code",
   "execution_count": null,
   "id": "4909d89c",
   "metadata": {},
   "outputs": [],
   "source": []
  }
 ],
 "metadata": {
  "kernelspec": {
   "display_name": "Python 3 (ipykernel)",
   "language": "python",
   "name": "python3"
  },
  "language_info": {
   "codemirror_mode": {
    "name": "ipython",
    "version": 3
   },
   "file_extension": ".py",
   "mimetype": "text/x-python",
   "name": "python",
   "nbconvert_exporter": "python",
   "pygments_lexer": "ipython3",
   "version": "3.10.8"
  },
  "vscode": {
   "interpreter": {
    "hash": "b86bb98fdd70a8e8782ea355ee2333fe77b3c475ee22810b54383d5ac706a69f"
   }
  }
 },
 "nbformat": 4,
 "nbformat_minor": 5
}
