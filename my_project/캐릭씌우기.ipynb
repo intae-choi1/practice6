{
 "cells": [
  {
   "cell_type": "markdown",
   "metadata": {},
   "source": [
    "# 프로젝트: 얼굴에 캐릭 씌우기"
   ]
  },
  {
   "cell_type": "markdown",
   "metadata": {},
   "source": [
    "### face detection vs face recognition\n",
    "### 얼굴 찾기 vs 누구 얼굴인지 알아내기"
   ]
  },
  {
   "cell_type": "code",
   "execution_count": 1,
   "metadata": {},
   "outputs": [],
   "source": [
    "import cv2\n",
    "import mediapipe as mp\n"
   ]
  },
  {
   "cell_type": "code",
   "execution_count": 2,
   "metadata": {},
   "outputs": [],
   "source": [
    "# 얼굴을 찾고, 찾은 얼굴에 표시를 하기 위한 변수 정의\n",
    "mp_face_detection = mp.solutions.face_detection # 얼굴 검출은 위한 face detection 모듈\n",
    "mp_drawing = mp.solutions.drawing_utils # 얼굴의 특징을 그리기 위한 drawing utils 모듈\n"
   ]
  },
  {
   "cell_type": "code",
   "execution_count": 3,
   "metadata": {},
   "outputs": [],
   "source": [
    "\n",
    "# For static images:\n",
    "# IMAGE_FILES = []\n",
    "# with mp_face_detection.FaceDetection(\n",
    "#     model_selection=1, min_detection_confidence=0.5) as face_detection:\n",
    "#   for idx, file in enumerate(IMAGE_FILES):\n",
    "#     image = cv2.imread(file)\n",
    "#     # Convert the BGR image to RGB and process it with MediaPipe Face Detection.\n",
    "#     results = face_detection.process(cv2.cvtColor(image, cv2.COLOR_BGR2RGB))\n",
    "\n",
    "#     # Draw face detections of each face.\n",
    "#     if not results.detections:\n",
    "#       continue\n",
    "#     annotated_image = image.copy()\n",
    "#     for detection in results.detections:\n",
    "#       print('Nose tip:')\n",
    "#       print(mp_face_detection.get_key_point(\n",
    "#           detection, mp_face_detection.FaceKeyPoint.NOSE_TIP))\n",
    "#       mp_drawing.draw_detection(annotated_image, detection)\n",
    "#     cv2.imwrite('/tmp/annotated_image' + str(idx) + '.png', annotated_image)\n"
   ]
  },
  {
   "cell_type": "code",
   "execution_count": 8,
   "metadata": {},
   "outputs": [],
   "source": [
    "\n",
    "# For webcam input:\n",
    "# cap = cv2.VideoCapture(0)\n",
    "cap = cv2.VideoCapture('face_video.mp4')\n",
    "\n",
    "# model selection : 0 or 1\n",
    "# 0: 카메라로부터 2m 이내, 1: 카메라로부터 5m 이내에 적합\n",
    "# min_detection_confidence(≒threshold) : 몇퍼 이상이면 얼굴\n",
    "with mp_face_detection.FaceDetection(\n",
    "    model_selection=0, min_detection_confidence=0.95) as face_detection:\n",
    "    while cap.isOpened():\n",
    "        success, image = cap.read()\n",
    "        if not success:\n",
    "            print(\"Ignoring empty camera frame.\")\n",
    "            # If loading a video, use 'break' instead of 'continue'.\n",
    "            break\n",
    "\n",
    "        # To improve performance, optionally mark the image as not writeable to\n",
    "        # pass by reference.\n",
    "        image.flags.writeable = False\n",
    "        image = cv2.cvtColor(image, cv2.COLOR_BGR2RGB)\n",
    "        results = face_detection.process(image)\n",
    "\n",
    "        # Draw the face detection annotations on the image.\n",
    "        image.flags.writeable = True\n",
    "        image = cv2.cvtColor(image, cv2.COLOR_RGB2BGR)\n",
    "        if results.detections:\n",
    "            for detection in results.detections:\n",
    "                # mp_drawing.draw_detection(image, detection)\n",
    "                \n",
    "                # 6점(keypoints): 우눈, 좌눈, 코, 입, 우귀, 좌귀\n",
    "                keypoints = detection.location_data.relative_keypoints\n",
    "                right_eye = keypoints[0]\n",
    "                left_eye = keypoints[1]\n",
    "                nose = keypoints[2]\n",
    "                \n",
    "                h,w,_ = image.shape\n",
    "                right_eye = (int(right_eye.x * w), int(right_eye.y * h))\n",
    "                left_eye = (int(left_eye.x * w), int(left_eye.y * h))\n",
    "                nose = (int(nose.x * w), int(nose.y * h))\n",
    "                \n",
    "                cv2.circle(image, right_eye, 50, (255,0,0), 5, cv2.LINE_AA)\n",
    "                cv2.circle(image, left_eye, 50, (0,255,0), 5, cv2.LINE_AA)\n",
    "                cv2.circle(image, nose, 20, (0,255,255), 5, cv2.LINE_AA)\n",
    "                \n",
    "                \n",
    "        # Flip the image horizontally for a selfie-view display.\n",
    "        cv2.imshow('MediaPipe Face Detection', cv2.resize(image, None, fx=0.8, fy=0.8))\n",
    "        if cv2.waitKey(1) == ord('q'):\n",
    "            break\n",
    "cap.release()\n",
    "cv2.destroyAllWindows()"
   ]
  },
  {
   "cell_type": "code",
   "execution_count": null,
   "metadata": {},
   "outputs": [],
   "source": []
  }
 ],
 "metadata": {
  "kernelspec": {
   "display_name": "Python 3 (ipykernel)",
   "language": "python",
   "name": "python3"
  },
  "language_info": {
   "codemirror_mode": {
    "name": "ipython",
    "version": 3
   },
   "file_extension": ".py",
   "mimetype": "text/x-python",
   "name": "python",
   "nbconvert_exporter": "python",
   "pygments_lexer": "ipython3",
   "version": "3.10.8"
  },
  "vscode": {
   "interpreter": {
    "hash": "b86bb98fdd70a8e8782ea355ee2333fe77b3c475ee22810b54383d5ac706a69f"
   }
  }
 },
 "nbformat": 4,
 "nbformat_minor": 2
}
