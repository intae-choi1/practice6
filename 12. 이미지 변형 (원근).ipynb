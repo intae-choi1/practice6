{
 "cells": [
  {
   "cell_type": "markdown",
   "metadata": {},
   "source": [
    "# 12. 이미지 변형 (원근)"
   ]
  },
  {
   "cell_type": "code",
   "execution_count": 1,
   "metadata": {},
   "outputs": [],
   "source": [
    "import cv2\n",
    "import numpy as np\n",
    "import time\n",
    "from dd import dd, ddd\n"
   ]
  },
  {
   "cell_type": "markdown",
   "metadata": {},
   "source": [
    "## 사다리꼴 이미지 펼치기"
   ]
  },
  {
   "cell_type": "code",
   "execution_count": null,
   "metadata": {},
   "outputs": [],
   "source": [
    "\n",
    "img = cv2.imread('opencv_img/newspaper.jpg')\n",
    "\n",
    "width, height = 640, 240 # 출력할 결과물의 크기\n",
    "\n",
    "src = np.array(\n",
    "    [[511, 352], [1008, 345], [1122, 584], [455,594]],\n",
    "    dtype=np.float32\n",
    ")\n",
    "dst = np.array(\n",
    "    [[0, 0], [width, 0], [width, height], [0, height]],\n",
    "    dtype=np.float32\n",
    ")\n",
    "\n",
    "matrix = cv2.getPerspectiveTransform(src, dst) # 변환할 행렬을 얻어옴\n",
    "print(matrix)\n",
    "result = cv2.warpPerspective(img, matrix, (width, height)) # matrix대로 변환\n",
    "\n",
    "dd('img', img)\n",
    "dd('result', result)\n",
    "ddd()"
   ]
  },
  {
   "cell_type": "markdown",
   "metadata": {},
   "source": [
    "## 회전된 이미지 세우기"
   ]
  },
  {
   "cell_type": "code",
   "execution_count": 7,
   "metadata": {},
   "outputs": [],
   "source": [
    "\n",
    "img = cv2.imread('opencv_img/poker.jpg')\n",
    "\n",
    "width, height = 530, 710 # 출력할 결과물의 크기\n",
    "\n",
    "src = np.array(\n",
    "    [[702, 143], [1133, 414], [726, 1007], [276, 700]],\n",
    "    dtype=np.float32\n",
    ")\n",
    "dst = np.array(\n",
    "    [[0, 0], [width, 0], [width, height], [0, height]],\n",
    "    dtype=np.float32\n",
    ")\n",
    "\n",
    "matrix = cv2.getPerspectiveTransform(src, dst) # 변환할 행렬을 얻어옴\n",
    "result = cv2.warpPerspective(img, matrix, (width, height)) # matrix대로 변환\n",
    "\n",
    "dd('img', img)\n",
    "dd('result', result)\n",
    "ddd()"
   ]
  },
  {
   "cell_type": "code",
   "execution_count": 8,
   "metadata": {},
   "outputs": [
    {
     "name": "stdout",
     "output_type": "stream",
     "text": [
      "왼쪽버튼 588 639\n",
      "왼쪽 버튼 up 588 639\n",
      "왼쪽 더블클릭\n",
      "왼쪽 버튼 up 588 639\n",
      "왼쪽버튼 265 611\n",
      "왼쪽 버튼 up 265 611\n",
      "왼쪽 더블클릭\n",
      "왼쪽 버튼 up 265 611\n",
      "왼쪽버튼 1133 431\n",
      "왼쪽 버튼 up 1133 431\n",
      "왼쪽 더블클릭\n",
      "왼쪽 버튼 up 1133 431\n",
      "왼쪽버튼 454 571\n",
      "왼쪽 버튼 up 454 571\n"
     ]
    }
   ],
   "source": [
    "def mouse_handler(event, x, y, flags, param):\n",
    "    if event == cv2.EVENT_LBUTTONDOWN:\n",
    "        print(\"왼쪽버튼\", x, y)        \n",
    "    elif event == cv2.EVENT_LBUTTONUP:\n",
    "        print(\"왼쪽 버튼 up\", x, y)\n",
    "    elif event == cv2.EVENT_LBUTTONDBLCLK:\n",
    "        print(\"왼쪽 더블클릭\")\n",
    "    elif event == cv2.EVENT_MOUSEMOVE:\n",
    "        pass\n",
    "    \n",
    "img = cv2.imread('opencv_img/poker.jpg')\n",
    "cv2.namedWindow('img') # img란 이름의 윈도우를 먼저 만들고\n",
    "cv2.setMouseCallback('img', mouse_handler) # img 이름의 윈도우에 핸들러 등록(존재하는 윈도우에만 등록가능)\n",
    "dd('img', img)\n",
    "ddd()"
   ]
  },
  {
   "cell_type": "markdown",
   "metadata": {},
   "source": [
    "## 선 그리면서 스캔"
   ]
  },
  {
   "cell_type": "code",
   "execution_count": 9,
   "metadata": {},
   "outputs": [
    {
     "data": {
      "text/plain": [
       "0"
      ]
     },
     "execution_count": 9,
     "metadata": {},
     "output_type": "execute_result"
    }
   ],
   "source": [
    "j"
   ]
  },
  {
   "cell_type": "code",
   "execution_count": 13,
   "metadata": {},
   "outputs": [],
   "source": [
    "point_list = []\n",
    "src_img = cv2.imread('opencv_img/poker.jpg')\n",
    "colors = [(255, 0, 0), (255, 255, 0), (0, 0, 255), (0, 255, 0)]\n",
    "THICKNESS = 3\n",
    "drawing = False # 선을 그릴지 여부\n",
    "def mouse_handler(event, x, y, flags, param):\n",
    "    global drawing\n",
    "    dst_img = src_img.copy()\n",
    "    if event == cv2.EVENT_LBUTTONDOWN:\n",
    "        drawing = True\n",
    "        point_list.append((x, y))\n",
    "        \n",
    "    if drawing:\n",
    "        prev_point = None    \n",
    "        for i, point in enumerate(point_list):\n",
    "            cv2.circle(dst_img, point, 15, colors[i], cv2.FILLED)\n",
    "            if prev_point:\n",
    "                cv2.line(dst_img, prev_point, point, colors[i], THICKNESS, cv2.LINE_AA)\n",
    "            prev_point = point\n",
    "        \n",
    "        next_point = (x, y)\n",
    "        if len(point_list) ==4:\n",
    "            next_point = point_list[0]\n",
    "            show_result()\n",
    "        cv2.line(dst_img, prev_point, next_point, colors[i], THICKNESS, cv2.LINE_AA)\n",
    "        \n",
    "    cv2.imshow('img', dst_img)\n",
    "    \n",
    "    \n",
    "def show_result():\n",
    "    width, height = 530, 710 # 출력할 결과물의 크기\n",
    "\n",
    "    src = np.float32(point_list) # float32타입의 np.array를 만들어 줌\n",
    "    dst = np.array(\n",
    "        [[0, 0], [width, 0], [width, height], [0, height]],\n",
    "        dtype=np.float32\n",
    "    )\n",
    "\n",
    "    matrix = cv2.getPerspectiveTransform(src, dst) # 변환할 행렬을 얻어옴\n",
    "    result = cv2.warpPerspective(src_img, matrix, (width, height)) # matrix대로 변환\n",
    "    cv2.imshow('result', result)\n",
    "\n",
    "cv2.namedWindow('img') # img란 이름의 윈도우를 먼저 만들고\n",
    "cv2.setMouseCallback('img', mouse_handler) # img 이름의 윈도우에 핸들러 등록(존재하는 윈도우에만 등록가능)\n",
    "dd('img', src_img)\n",
    "ddd()"
   ]
  },
  {
   "cell_type": "code",
   "execution_count": null,
   "metadata": {},
   "outputs": [],
   "source": []
  }
 ],
 "metadata": {
  "kernelspec": {
   "display_name": "Python 3.10.8 ('opencv_env')",
   "language": "python",
   "name": "python3"
  },
  "language_info": {
   "codemirror_mode": {
    "name": "ipython",
    "version": 3
   },
   "file_extension": ".py",
   "mimetype": "text/x-python",
   "name": "python",
   "nbconvert_exporter": "python",
   "pygments_lexer": "ipython3",
   "version": "3.10.8"
  },
  "orig_nbformat": 4,
  "vscode": {
   "interpreter": {
    "hash": "b86bb98fdd70a8e8782ea355ee2333fe77b3c475ee22810b54383d5ac706a69f"
   }
  }
 },
 "nbformat": 4,
 "nbformat_minor": 2
}
