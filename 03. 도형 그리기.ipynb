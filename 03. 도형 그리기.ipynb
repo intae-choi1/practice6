{
 "cells": [
  {
   "cell_type": "markdown",
   "metadata": {},
   "source": [
    "# 3. 도형 그리기\n",
    "## 빈 스케치북 만들기"
   ]
  },
  {
   "cell_type": "code",
   "execution_count": 1,
   "metadata": {},
   "outputs": [],
   "source": [
    "import cv2\n",
    "import numpy as np\n",
    "\n",
    "# 세로 480 가로 630 3채널 스케치북\n",
    "img = np.zeros((480, 640, 3), dtype=np.uint8)\n",
    "# img[:] = (0, 0, 255) # BGR\n",
    "cv2.imshow('img', img)\n",
    "cv2.waitKey(0)\n",
    "cv2.destroyAllWindows()"
   ]
  },
  {
   "cell_type": "code",
   "execution_count": 7,
   "metadata": {},
   "outputs": [],
   "source": [
    "img = np.zeros((480, 640, 3), dtype=np.uint8)\n",
    "# 세로, 가로 \n",
    "# [첫번째차원, 두번쨰차원] 에 (x, x, x) 넣기\n",
    "# 첫번째 차원이 세로기 때문에 세로 100부터 200까지\n",
    "# 두번째 차원이 가로기 때문에 가로 200부터 300까지\n",
    "img[100:200, 200:300] = (255, 255, 255) # BGR\n",
    "cv2.imshow('img', img)\n",
    "cv2.waitKey(0)\n",
    "cv2.destroyAllWindows()"
   ]
  },
  {
   "cell_type": "markdown",
   "metadata": {},
   "source": [
    "## 직선\n",
    "직선의 종류 (line type)\n",
    "1. cv2,LINE_4 : 상하좌우 4 방향으로 연결된 선\n",
    "1. cv2.LINE_8 : 대각선까지 8방향으로 연결된 선 (기본값)\n",
    "1. cv2.LINE_AA : 부드러운 선 (안티앨리어싱)"
   ]
  },
  {
   "cell_type": "code",
   "execution_count": 6,
   "metadata": {},
   "outputs": [],
   "source": [
    "img = np.zeros((480, 640, 3), dtype=np.uint8)\n",
    "COLOR = (100,140,100)\n",
    "THICKNESS = 2\n",
    "# (어디에, 시작점{x,y}, 끝점{x,y}, 색, 두께, 타dd입)\n",
    "cv2.line(img, (50, 100), (400, 50), COLOR, THICKNESS, cv2.LINE_8)\n",
    "cv2.line(img, (50, 200), (400, 150), COLOR, THICKNESS, cv2.LINE_4)\n",
    "cv2.line(img, (50, 300), (400, 250), COLOR, THICKNESS, cv2.LINE_AA)\n",
    "cv2.imshow('img', img)\n",
    "cv2.waitKey(0)\n",
    "cv2.destroyAllWindows()"
   ]
  },
  {
   "cell_type": "markdown",
   "metadata": {},
   "source": [
    "### 원"
   ]
  },
  {
   "cell_type": "code",
   "execution_count": 22,
   "metadata": {},
   "outputs": [],
   "source": [
    "img = np.zeros((480, 640, 3), dtype=np.uint8)\n",
    "COLOR = (255,255,0)\n",
    "THICKNESS = 1\n",
    "RADIUS = 50 # 반지름\n",
    "# (어디에, 중심점, 반지름, 색, 두께, 타입)\n",
    "cv2.circle(img, (100,150), RADIUS, COLOR, THICKNESS, cv2.LINE_4)\n",
    "cv2.circle(img, (400,150), RADIUS, COLOR, cv2.FILLED, cv2.LINE_AA) # 꽉찬 원\n",
    "cv2.imshow('img', img)\n",
    "cv2.waitKey(0)\n",
    "cv2.destroyAllWindows()"
   ]
  },
  {
   "cell_type": "markdown",
   "metadata": {},
   "source": [
    "### 사각형"
   ]
  },
  {
   "cell_type": "code",
   "execution_count": 29,
   "metadata": {},
   "outputs": [],
   "source": [
    "img = np.zeros((480, 640, 3), dtype=np.uint8)\n",
    "COLOR = (0,255,0)\n",
    "THICKNESS = 2\n",
    "# (어디에, 시작, 끝, 색, 두께)\n",
    "cv2.rectangle(img, (100,150), (200, 50), COLOR, THICKNESS)\n",
    "cv2.rectangle(img, (400,150), (410, 200), COLOR, cv2.FILLED) # 꽉찬 사각형\n",
    "cv2.imshow('img', img)\n",
    "cv2.waitKey(0)\n",
    "cv2.destroyAllWindows()"
   ]
  },
  {
   "cell_type": "markdown",
   "metadata": {},
   "source": [
    "### 다각형"
   ]
  },
  {
   "cell_type": "code",
   "execution_count": 35,
   "metadata": {},
   "outputs": [],
   "source": [
    "img = np.zeros((480, 640, 3), dtype=np.uint8)\n",
    "COLOR = (0,0,255)\n",
    "THICKNESS = 2\n",
    "\n",
    "pts1 = np.array([[100, 100], [200, 100], [100, 200]])\n",
    "pts2 = np.array([[200, 100], [300, 100], [300, 200]])\n",
    "# 3번째 인자는 시작점과 끝점을 이을건지(True) 안이을건지 (False)\n",
    "cv2.polylines(img, [pts1, pts2], True, COLOR, THICKNESS, cv2.LINE_AA)\n",
    "# 색칠된 도형\n",
    "pts3 = np.array([[[100, 300], [200, 300], [100, 400]], [[200, 300], [300, 300], [300, 400]]])\n",
    "cv2.fillPoly(img, pts3, COLOR, cv2.LINE_AA)\n",
    "cv2.imshow('dd', img)\n",
    "cv2.waitKey(0)\n",
    "cv2.destroyAllWindows()"
   ]
  },
  {
   "cell_type": "code",
   "execution_count": null,
   "metadata": {},
   "outputs": [],
   "source": []
  }
 ],
 "metadata": {
  "kernelspec": {
   "display_name": "Python 3.10.8 ('opencv_env')",
   "language": "python",
   "name": "python3"
  },
  "language_info": {
   "codemirror_mode": {
    "name": "ipython",
    "version": 3
   },
   "file_extension": ".py",
   "mimetype": "text/x-python",
   "name": "python",
   "nbconvert_exporter": "python",
   "pygments_lexer": "ipython3",
   "version": "3.10.8"
  },
  "orig_nbformat": 4,
  "vscode": {
   "interpreter": {
    "hash": "b86bb98fdd70a8e8782ea355ee2333fe77b3c475ee22810b54383d5ac706a69f"
   }
  }
 },
 "nbformat": 4,
 "nbformat_minor": 2
}
