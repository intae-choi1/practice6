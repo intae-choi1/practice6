{
 "cells": [
  {
   "cell_type": "markdown",
   "metadata": {},
   "source": [
    "# 17. 이미지 검출 (경계선)"
   ]
  },
  {
   "cell_type": "markdown",
   "metadata": {},
   "source": [
    "### Canny Edge Detection"
   ]
  },
  {
   "cell_type": "code",
   "execution_count": 2,
   "metadata": {},
   "outputs": [],
   "source": [
    "import cv2\n",
    "from dd import dd, ddd\n",
    "\n",
    "img = cv2.imread('opencv_img/snowman.png')\n",
    "\n",
    "canny = cv2.Canny(img, 150, 200)\n",
    "# 이미지, minVal(하위 임계값), maxVal(상위임계값)\n",
    "\n",
    "dd('img', img)\n",
    "dd('canny', canny)\n",
    "ddd()"
   ]
  },
  {
   "cell_type": "code",
   "execution_count": 2,
   "metadata": {},
   "outputs": [],
   "source": [
    "import cv2\n",
    "from dd import dd, ddd\n",
    "\n",
    "img = cv2.imread('opencv_img/snowman.png')\n",
    "name = 'Trackbar'\n",
    "cv2.namedWindow(name)\n",
    "cv2.createTrackbar('threshold1', name, 0, 255, lambda x: x)\n",
    "cv2.createTrackbar('threshold2', name, 0, 255, lambda x: x)\n",
    "\n",
    "while cv2.waitKey(1) != ord('q'):\n",
    "    threshold1 = cv2.getTrackbarPos('threshold1', name)\n",
    "    threshold2 = cv2.getTrackbarPos('threshold2', name)\n",
    "    \n",
    "    canny = cv2.Canny(img, threshold1, threshold2)\n",
    "\n",
    "    dd('img', img)\n",
    "    dd(name, canny)\n",
    "cv2.destroyAllWindows()"
   ]
  }
 ],
 "metadata": {
  "kernelspec": {
   "display_name": "Python 3.10.8 ('opencv_env')",
   "language": "python",
   "name": "python3"
  },
  "language_info": {
   "codemirror_mode": {
    "name": "ipython",
    "version": 3
   },
   "file_extension": ".py",
   "mimetype": "text/x-python",
   "name": "python",
   "nbconvert_exporter": "python",
   "pygments_lexer": "ipython3",
   "version": "3.10.8"
  },
  "orig_nbformat": 4,
  "vscode": {
   "interpreter": {
    "hash": "b86bb98fdd70a8e8782ea355ee2333fe77b3c475ee22810b54383d5ac706a69f"
   }
  }
 },
 "nbformat": 4,
 "nbformat_minor": 2
}
